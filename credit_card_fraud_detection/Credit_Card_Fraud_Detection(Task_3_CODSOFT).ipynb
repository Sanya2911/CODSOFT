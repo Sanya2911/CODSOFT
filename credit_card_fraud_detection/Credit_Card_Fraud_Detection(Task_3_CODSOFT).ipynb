{
  "nbformat": 4,
  "nbformat_minor": 0,
  "metadata": {
    "colab": {
      "provenance": []
    },
    "kernelspec": {
      "name": "python3",
      "display_name": "Python 3"
    },
    "language_info": {
      "name": "python"
    }
  },
  "cells": [
    {
      "cell_type": "code",
      "source": [
        "import pandas as pd\n",
        "from sklearn.model_selection import train_test_split\n",
        "from sklearn.preprocessing import StandardScaler\n",
        "from sklearn.ensemble import RandomForestClassifier\n",
        "from sklearn.metrics import accuracy_score, classification_report, confusion_matrix"
      ],
      "metadata": {
        "id": "DD4JjZZjYIyb"
      },
      "execution_count": 61,
      "outputs": []
    },
    {
      "cell_type": "code",
      "source": [
        "# Load the datasets\n",
        "fraudtrain_data = pd.read_csv('fraudTrain.csv')\n",
        "fraudtest_data = pd.read_csv('fraudTest.csv')\n"
      ],
      "metadata": {
        "id": "q6a7V9VuYKvs"
      },
      "execution_count": 62,
      "outputs": []
    },
    {
      "cell_type": "code",
      "source": [
        "fraudtrain_data = fraudtrain_data[:1000]\n",
        "fraudtest_data = fraudtest_data[:1000]\n",
        "print(fraudtrain_data.shape)\n",
        "print(fraudtest_data.shape)"
      ],
      "metadata": {
        "colab": {
          "base_uri": "https://localhost:8080/"
        },
        "id": "cpu-uwf7YRzi",
        "outputId": "edad8410-e937-439d-9301-17be5fe51752"
      },
      "execution_count": 64,
      "outputs": [
        {
          "output_type": "stream",
          "name": "stdout",
          "text": [
            "(500, 23)\n",
            "(500, 23)\n"
          ]
        }
      ]
    },
    {
      "cell_type": "code",
      "source": [
        "# Prepare features and target\n",
        "X = fraudtrain_data.drop(['trans_date_trans_time', 'merchant', 'category', 'first', 'last', 'gender', 'street', 'city', 'state', 'job', 'trans_num', 'dob'], axis=1)\n",
        "y = fraudtest_data['is_fraud']\n",
        "print(X.shape)\n",
        "print(y.shape)\n",
        "\n",
        "# Build and train the Random Forest classifier\n",
        "rf_classifier = RandomForestClassifier(random_state=42)\n",
        "rf_classifier.fit(X, y)\n",
        "\n",
        "# Make predictions\n",
        "rf_predictions = rf_classifier.predict(X)"
      ],
      "metadata": {
        "colab": {
          "base_uri": "https://localhost:8080/"
        },
        "id": "MQw3fQXuYaqQ",
        "outputId": "462005ef-9bb7-4508-ad24-460210c32d0a"
      },
      "execution_count": 65,
      "outputs": [
        {
          "output_type": "stream",
          "name": "stdout",
          "text": [
            "(500, 11)\n",
            "(500,)\n"
          ]
        }
      ]
    },
    {
      "cell_type": "code",
      "source": [
        "# Evaluate the model\n",
        "print(\"Random Forest Accuracy:\", accuracy_score(y, rf_predictions))\n",
        "print(\"Random Forest Classification Report:\")\n",
        "print(classification_report(y, rf_predictions))\n",
        "print(\"Random Forest Confusion Matrix:\")\n",
        "print(confusion_matrix(y, rf_predictions))\n",
        "\n",
        "print(fraudtrain_data.shape)\n",
        "print(fraudtest_data.shape)\n"
      ],
      "metadata": {
        "colab": {
          "base_uri": "https://localhost:8080/"
        },
        "id": "PaiLmhQdYd-P",
        "outputId": "794edbf2-07da-4f14-bde0-bb9ccaa5c0fa"
      },
      "execution_count": 66,
      "outputs": [
        {
          "output_type": "stream",
          "name": "stdout",
          "text": [
            "Random Forest Accuracy: 1.0\n",
            "Random Forest Classification Report:\n",
            "              precision    recall  f1-score   support\n",
            "\n",
            "         0.0       1.00      1.00      1.00       500\n",
            "\n",
            "    accuracy                           1.00       500\n",
            "   macro avg       1.00      1.00      1.00       500\n",
            "weighted avg       1.00      1.00      1.00       500\n",
            "\n",
            "Random Forest Confusion Matrix:\n",
            "[[500]]\n",
            "(500, 23)\n",
            "(500, 23)\n"
          ]
        }
      ]
    },
    {
      "cell_type": "code",
      "source": [
        "# Prepare features and target\n",
        "X = fraudtrain_data.drop(['trans_date_trans_time', 'merchant', 'category', 'first', 'last', 'gender', 'street', 'city', 'state', 'job', 'trans_num', 'dob'], axis=1)\n",
        "y = fraudtest_data['is_fraud']\n",
        "print(X.shape)\n",
        "print(y.shape)\n",
        "\n",
        "# Build and train the Random Forest classifier\n",
        "rf_classifier = RandomForestClassifier(random_state=42)\n",
        "rf_classifier.fit(X, y)\n",
        "\n",
        "# Make predictions\n",
        "rf_predictions = rf_classifier.predict(X)\n",
        "\n",
        "# Evaluate the model\n",
        "print(\"Random Forest Accuracy:\", accuracy_score(y, rf_predictions))\n",
        "print(\"Random Forest Classification Report:\")\n",
        "print(classification_report(y, rf_predictions))\n",
        "print(\"Random Forest Confusion Matrix:\")\n",
        "print(confusion_matrix(y, rf_predictions))\n"
      ],
      "metadata": {
        "colab": {
          "base_uri": "https://localhost:8080/"
        },
        "id": "dkkA0WQ9X6UC",
        "outputId": "4a60890e-a368-43ed-a457-62afdd9dfbee"
      },
      "execution_count": 67,
      "outputs": [
        {
          "output_type": "stream",
          "name": "stdout",
          "text": [
            "(500, 11)\n",
            "(500,)\n",
            "Random Forest Accuracy: 1.0\n",
            "Random Forest Classification Report:\n",
            "              precision    recall  f1-score   support\n",
            "\n",
            "         0.0       1.00      1.00      1.00       500\n",
            "\n",
            "    accuracy                           1.00       500\n",
            "   macro avg       1.00      1.00      1.00       500\n",
            "weighted avg       1.00      1.00      1.00       500\n",
            "\n",
            "Random Forest Confusion Matrix:\n",
            "[[500]]\n"
          ]
        }
      ]
    }
  ]
}