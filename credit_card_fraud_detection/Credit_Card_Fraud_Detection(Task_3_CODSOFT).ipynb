{
  "nbformat": 4,
  "nbformat_minor": 0,
  "metadata": {
    "colab": {
      "provenance": []
    },
    "kernelspec": {
      "name": "python3",
      "display_name": "Python 3"
    },
    "language_info": {
      "name": "python"
    }
  },
  "cells": [
    {
      "cell_type": "code",
      "source": [
        "#importing the libraries\n",
        "import pandas as pd\n",
        "from sklearn.model_selection import train_test_split\n",
        "from sklearn.preprocessing import StandardScaler\n",
        "from sklearn.ensemble import RandomForestClassifier\n",
        "from sklearn.metrics import accuracy_score, classification_report, confusion_matrix"
      ],
      "metadata": {
        "id": "DD4JjZZjYIyb"
      },
      "execution_count": 18,
      "outputs": []
    },
    {
      "cell_type": "code",
      "source": [
        "# Load the datasets\n",
        "fraudtrain_data = pd.read_csv('fraudTrain.csv')\n",
        "fraudtest_data = pd.read_csv('fraudTest.csv')\n"
      ],
      "metadata": {
        "id": "q6a7V9VuYKvs"
      },
      "execution_count": 20,
      "outputs": []
    },
    {
      "cell_type": "code",
      "source": [
        "fraudtrain_data = fraudtrain_data[:1000]\n",
        "fraudtest_data = fraudtest_data[:1000]\n",
        "print(fraudtrain_data.shape)\n",
        "print(fraudtest_data.shape)"
      ],
      "metadata": {
        "colab": {
          "base_uri": "https://localhost:8080/"
        },
        "id": "cpu-uwf7YRzi",
        "outputId": "87241181-c351-446e-af6f-a528cc17329d"
      },
      "execution_count": 22,
      "outputs": [
        {
          "output_type": "stream",
          "name": "stdout",
          "text": [
            "(1000, 23)\n",
            "(1000, 23)\n"
          ]
        }
      ]
    },
    {
      "cell_type": "code",
      "source": [
        "# Prepare features and target\n",
        "X = fraudtrain_data.drop(['trans_date_trans_time', 'merchant', 'category', 'first', 'last', 'gender', 'street', 'city', 'state', 'job', 'trans_num', 'dob'], axis=1)\n",
        "y = fraudtest_data['is_fraud']\n",
        "print(X.shape)\n",
        "print(y.shape)\n",
        "print(fraudtrain_data.shape)\n",
        "print(fraudtest_data.shape)\n",
        "\n",
        "# Build and train the Random Forest classifier\n",
        "rf_classifier = RandomForestClassifier(random_state=42)\n",
        "rf_classifier.fit(X, y)\n",
        "\n",
        "# Make predictions from random forests\n",
        "rf_predictions = rf_classifier.predict(X)"
      ],
      "metadata": {
        "colab": {
          "base_uri": "https://localhost:8080/"
        },
        "id": "MQw3fQXuYaqQ",
        "outputId": "d119d29b-e6bc-4716-c3d9-8dce31d4c92f"
      },
      "execution_count": 26,
      "outputs": [
        {
          "output_type": "stream",
          "name": "stdout",
          "text": [
            "(1000, 11)\n",
            "(1000,)\n",
            "(1000, 23)\n",
            "(1000, 23)\n"
          ]
        }
      ]
    },
    {
      "cell_type": "code",
      "source": [
        "#Evaluating the model\n",
        "print(\"Random Forest Accuracy:\", accuracy_score(y, rf_predictions))\n",
        "print(\"Random Forest Classification Report:\")\n",
        "print(classification_report(y, rf_predictions))\n",
        "print(\"Random Forest Confusion Matrix:\")\n",
        "print(confusion_matrix(y, rf_predictions))"
      ],
      "metadata": {
        "id": "PaiLmhQdYd-P",
        "outputId": "f963ea83-c08a-4960-a43b-2a42c0ece447",
        "colab": {
          "base_uri": "https://localhost:8080/"
        }
      },
      "execution_count": 27,
      "outputs": [
        {
          "output_type": "stream",
          "name": "stdout",
          "text": [
            "Random Forest Accuracy: 1.0\n",
            "Random Forest Classification Report:\n",
            "              precision    recall  f1-score   support\n",
            "\n",
            "           0       1.00      1.00      1.00      1000\n",
            "\n",
            "    accuracy                           1.00      1000\n",
            "   macro avg       1.00      1.00      1.00      1000\n",
            "weighted avg       1.00      1.00      1.00      1000\n",
            "\n",
            "Random Forest Confusion Matrix:\n",
            "[[1000]]\n"
          ]
        }
      ]
    }
  ]
}